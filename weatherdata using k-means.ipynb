{
 "cells": [
  {
   "cell_type": "markdown",
   "id": "9f47ffe8-8ad3-4f3e-882e-ff6412adc788",
   "metadata": {},
   "source": [
    "# # Weather Data Clustering\n",
    "# \n",
    "# This notebook applies clustering on real-time weather data collected from OpenWeatherMap for 17 Canadian cities.\n",
    "# We will preprocess the data, explore feature distributions, determine the optimal number of clusters, and analyze the results based on actual weather trends."
   ]
  },
  {
   "cell_type": "code",
   "execution_count": 1,
   "id": "06ef2a38-d2e2-4c56-b57a-5e56976a5cee",
   "metadata": {},
   "outputs": [],
   "source": [
    "import pandas as pd\n",
    "import numpy as np\n",
    "import matplotlib.pyplot as plt\n",
    "import seaborn as sns\n",
    "from sklearn.cluster import KMeans\n",
    "from sklearn.preprocessing import StandardScaler\n",
    "from sklearn.metrics import silhouette_score"
   ]
  },
  {
   "cell_type": "markdown",
   "id": "bd034f66-21cf-4842-8eb5-04a38f760ead",
   "metadata": {},
   "source": [
    "# ## 1. Load and Explore Data\n",
    "# We load only real-time weather data for clustering."
   ]
  },
  {
   "cell_type": "code",
   "execution_count": 3,
   "id": "900d67af-4bb8-4426-9559-dc8b4f2b73ad",
   "metadata": {},
   "outputs": [
    {
     "data": {
      "text/html": [
       "<div>\n",
       "<style scoped>\n",
       "    .dataframe tbody tr th:only-of-type {\n",
       "        vertical-align: middle;\n",
       "    }\n",
       "\n",
       "    .dataframe tbody tr th {\n",
       "        vertical-align: top;\n",
       "    }\n",
       "\n",
       "    .dataframe thead th {\n",
       "        text-align: right;\n",
       "    }\n",
       "</style>\n",
       "<table border=\"1\" class=\"dataframe\">\n",
       "  <thead>\n",
       "    <tr style=\"text-align: right;\">\n",
       "      <th></th>\n",
       "      <th>city</th>\n",
       "      <th>country</th>\n",
       "      <th>temperature_celsius</th>\n",
       "      <th>feels_like_celsius</th>\n",
       "      <th>temperature_min_celsius</th>\n",
       "      <th>temperature_max_celsius</th>\n",
       "      <th>weather</th>\n",
       "      <th>lat</th>\n",
       "      <th>lon</th>\n",
       "      <th>pressure</th>\n",
       "      <th>humidity</th>\n",
       "      <th>wind_speed</th>\n",
       "      <th>wind_deg</th>\n",
       "      <th>visibility</th>\n",
       "      <th>sunrise</th>\n",
       "      <th>sunset</th>\n",
       "      <th>datetimestamp</th>\n",
       "    </tr>\n",
       "  </thead>\n",
       "  <tbody>\n",
       "    <tr>\n",
       "      <th>0</th>\n",
       "      <td>Vancouver</td>\n",
       "      <td>CA</td>\n",
       "      <td>5.52</td>\n",
       "      <td>1.49</td>\n",
       "      <td>4.14</td>\n",
       "      <td>6.27</td>\n",
       "      <td>clear sky</td>\n",
       "      <td>49.2497</td>\n",
       "      <td>-123.1193</td>\n",
       "      <td>1016</td>\n",
       "      <td>80</td>\n",
       "      <td>6.17</td>\n",
       "      <td>300</td>\n",
       "      <td>10000</td>\n",
       "      <td>2025-03-06 10:44:08</td>\n",
       "      <td>2025-03-06 22:03:26</td>\n",
       "      <td>2025-03-06 12:53:42</td>\n",
       "    </tr>\n",
       "    <tr>\n",
       "      <th>1</th>\n",
       "      <td>Victoria</td>\n",
       "      <td>CA</td>\n",
       "      <td>4.97</td>\n",
       "      <td>3.27</td>\n",
       "      <td>3.87</td>\n",
       "      <td>6.98</td>\n",
       "      <td>clear sky</td>\n",
       "      <td>48.4329</td>\n",
       "      <td>-123.3693</td>\n",
       "      <td>1016</td>\n",
       "      <td>86</td>\n",
       "      <td>2.06</td>\n",
       "      <td>30</td>\n",
       "      <td>10000</td>\n",
       "      <td>2025-03-06 10:44:30</td>\n",
       "      <td>2025-03-06 22:05:05</td>\n",
       "      <td>2025-03-06 12:52:29</td>\n",
       "    </tr>\n",
       "    <tr>\n",
       "      <th>2</th>\n",
       "      <td>Calgary</td>\n",
       "      <td>CA</td>\n",
       "      <td>1.56</td>\n",
       "      <td>-2.08</td>\n",
       "      <td>-0.16</td>\n",
       "      <td>3.14</td>\n",
       "      <td>clear sky</td>\n",
       "      <td>51.0501</td>\n",
       "      <td>-114.0853</td>\n",
       "      <td>1011</td>\n",
       "      <td>73</td>\n",
       "      <td>3.58</td>\n",
       "      <td>260</td>\n",
       "      <td>10000</td>\n",
       "      <td>2025-03-06 10:09:33</td>\n",
       "      <td>2025-03-06 21:25:46</td>\n",
       "      <td>2025-03-06 12:53:38</td>\n",
       "    </tr>\n",
       "    <tr>\n",
       "      <th>3</th>\n",
       "      <td>Edmonton</td>\n",
       "      <td>CA</td>\n",
       "      <td>1.74</td>\n",
       "      <td>-1.48</td>\n",
       "      <td>0.45</td>\n",
       "      <td>2.67</td>\n",
       "      <td>few clouds</td>\n",
       "      <td>53.5501</td>\n",
       "      <td>-113.4687</td>\n",
       "      <td>1010</td>\n",
       "      <td>66</td>\n",
       "      <td>3.09</td>\n",
       "      <td>260</td>\n",
       "      <td>10000</td>\n",
       "      <td>2025-03-06 10:09:21</td>\n",
       "      <td>2025-03-06 21:21:02</td>\n",
       "      <td>2025-03-06 12:53:00</td>\n",
       "    </tr>\n",
       "    <tr>\n",
       "      <th>4</th>\n",
       "      <td>Regina</td>\n",
       "      <td>CA</td>\n",
       "      <td>-10.01</td>\n",
       "      <td>-16.19</td>\n",
       "      <td>-10.01</td>\n",
       "      <td>-9.94</td>\n",
       "      <td>clear sky</td>\n",
       "      <td>50.4501</td>\n",
       "      <td>-104.6178</td>\n",
       "      <td>1017</td>\n",
       "      <td>90</td>\n",
       "      <td>3.60</td>\n",
       "      <td>240</td>\n",
       "      <td>10000</td>\n",
       "      <td>2025-03-06 09:31:13</td>\n",
       "      <td>2025-03-06 20:48:22</td>\n",
       "      <td>2025-03-06 12:56:18</td>\n",
       "    </tr>\n",
       "  </tbody>\n",
       "</table>\n",
       "</div>"
      ],
      "text/plain": [
       "        city country  temperature_celsius  feels_like_celsius  \\\n",
       "0  Vancouver      CA                 5.52                1.49   \n",
       "1   Victoria      CA                 4.97                3.27   \n",
       "2    Calgary      CA                 1.56               -2.08   \n",
       "3   Edmonton      CA                 1.74               -1.48   \n",
       "4     Regina      CA               -10.01              -16.19   \n",
       "\n",
       "   temperature_min_celsius  temperature_max_celsius     weather      lat  \\\n",
       "0                     4.14                     6.27   clear sky  49.2497   \n",
       "1                     3.87                     6.98   clear sky  48.4329   \n",
       "2                    -0.16                     3.14   clear sky  51.0501   \n",
       "3                     0.45                     2.67  few clouds  53.5501   \n",
       "4                   -10.01                    -9.94   clear sky  50.4501   \n",
       "\n",
       "        lon  pressure  humidity  wind_speed  wind_deg  visibility  \\\n",
       "0 -123.1193      1016        80        6.17       300       10000   \n",
       "1 -123.3693      1016        86        2.06        30       10000   \n",
       "2 -114.0853      1011        73        3.58       260       10000   \n",
       "3 -113.4687      1010        66        3.09       260       10000   \n",
       "4 -104.6178      1017        90        3.60       240       10000   \n",
       "\n",
       "               sunrise               sunset        datetimestamp  \n",
       "0  2025-03-06 10:44:08  2025-03-06 22:03:26  2025-03-06 12:53:42  \n",
       "1  2025-03-06 10:44:30  2025-03-06 22:05:05  2025-03-06 12:52:29  \n",
       "2  2025-03-06 10:09:33  2025-03-06 21:25:46  2025-03-06 12:53:38  \n",
       "3  2025-03-06 10:09:21  2025-03-06 21:21:02  2025-03-06 12:53:00  \n",
       "4  2025-03-06 09:31:13  2025-03-06 20:48:22  2025-03-06 12:56:18  "
      ]
     },
     "execution_count": 3,
     "metadata": {},
     "output_type": "execute_result"
    }
   ],
   "source": [
    "# Load Data\n",
    "real_time_df = pd.read_csv('C:\\\\Users\\\\Sandeep Mondkar\\\\Downloads\\\\weather_data.csv', encoding='latin1')\n",
    "real_time_df.head()"
   ]
  },
  {
   "cell_type": "markdown",
   "id": "9d38d8fa-237e-44d8-9012-55425f576be3",
   "metadata": {},
   "source": [
    "# ## 2. Data Cleaning and Preprocessing\n",
    "# \n",
    "# We filter relevant features, handle missing values, and standardize numerical data to ensure effective clustering."
   ]
  },
  {
   "cell_type": "code",
   "execution_count": 4,
   "id": "fcb5398d-fbb4-4eb0-be09-719cf8091799",
   "metadata": {},
   "outputs": [],
   "source": [
    "# Select features for clustering\n",
    "columns_to_keep = ['city', 'temperature_celsius', 'feels_like_celsius', 'humidity', 'pressure', 'wind_speed']\n",
    "weather_df = real_time_df[columns_to_keep].dropna()"
   ]
  },
  {
   "cell_type": "code",
   "execution_count": 5,
   "id": "b3e89a71-38c3-4be5-8564-0784feace2d3",
   "metadata": {},
   "outputs": [],
   "source": [
    "# Convert categorical column 'city' to numerical\n",
    "weather_df['city_code'] = weather_df['city'].astype('category').cat.codes\n",
    "city_mapping = dict(enumerate(weather_df['city'].astype('category').cat.categories))"
   ]
  },
  {
   "cell_type": "code",
   "execution_count": 6,
   "id": "a8d2b10a-c937-4c5a-9519-800a8e11e184",
   "metadata": {},
   "outputs": [],
   "source": [
    "# Standardize numerical features\n",
    "scaler = StandardScaler()\n",
    "weather_scaled = scaler.fit_transform(weather_df.drop(columns=['city', 'city_code']))"
   ]
  },
  {
   "cell_type": "code",
   "execution_count": 7,
   "id": "8f3a584c-6464-4ce4-bb0c-2ce1f740eef6",
   "metadata": {},
   "outputs": [
    {
     "data": {
      "text/html": [
       "<div>\n",
       "<style scoped>\n",
       "    .dataframe tbody tr th:only-of-type {\n",
       "        vertical-align: middle;\n",
       "    }\n",
       "\n",
       "    .dataframe tbody tr th {\n",
       "        vertical-align: top;\n",
       "    }\n",
       "\n",
       "    .dataframe thead th {\n",
       "        text-align: right;\n",
       "    }\n",
       "</style>\n",
       "<table border=\"1\" class=\"dataframe\">\n",
       "  <thead>\n",
       "    <tr style=\"text-align: right;\">\n",
       "      <th></th>\n",
       "      <th>city</th>\n",
       "      <th>temperature_celsius</th>\n",
       "      <th>feels_like_celsius</th>\n",
       "      <th>humidity</th>\n",
       "      <th>pressure</th>\n",
       "      <th>wind_speed</th>\n",
       "      <th>city_code</th>\n",
       "    </tr>\n",
       "  </thead>\n",
       "  <tbody>\n",
       "    <tr>\n",
       "      <th>0</th>\n",
       "      <td>Vancouver</td>\n",
       "      <td>5.52</td>\n",
       "      <td>1.49</td>\n",
       "      <td>80</td>\n",
       "      <td>1016</td>\n",
       "      <td>6.17</td>\n",
       "      <td>14</td>\n",
       "    </tr>\n",
       "    <tr>\n",
       "      <th>1</th>\n",
       "      <td>Victoria</td>\n",
       "      <td>4.97</td>\n",
       "      <td>3.27</td>\n",
       "      <td>86</td>\n",
       "      <td>1016</td>\n",
       "      <td>2.06</td>\n",
       "      <td>15</td>\n",
       "    </tr>\n",
       "    <tr>\n",
       "      <th>2</th>\n",
       "      <td>Calgary</td>\n",
       "      <td>1.56</td>\n",
       "      <td>-2.08</td>\n",
       "      <td>73</td>\n",
       "      <td>1011</td>\n",
       "      <td>3.58</td>\n",
       "      <td>0</td>\n",
       "    </tr>\n",
       "    <tr>\n",
       "      <th>3</th>\n",
       "      <td>Edmonton</td>\n",
       "      <td>1.74</td>\n",
       "      <td>-1.48</td>\n",
       "      <td>66</td>\n",
       "      <td>1010</td>\n",
       "      <td>3.09</td>\n",
       "      <td>3</td>\n",
       "    </tr>\n",
       "    <tr>\n",
       "      <th>4</th>\n",
       "      <td>Regina</td>\n",
       "      <td>-10.01</td>\n",
       "      <td>-16.19</td>\n",
       "      <td>90</td>\n",
       "      <td>1017</td>\n",
       "      <td>3.60</td>\n",
       "      <td>9</td>\n",
       "    </tr>\n",
       "  </tbody>\n",
       "</table>\n",
       "</div>"
      ],
      "text/plain": [
       "        city  temperature_celsius  feels_like_celsius  humidity  pressure  \\\n",
       "0  Vancouver                 5.52                1.49        80      1016   \n",
       "1   Victoria                 4.97                3.27        86      1016   \n",
       "2    Calgary                 1.56               -2.08        73      1011   \n",
       "3   Edmonton                 1.74               -1.48        66      1010   \n",
       "4     Regina               -10.01              -16.19        90      1017   \n",
       "\n",
       "   wind_speed  city_code  \n",
       "0        6.17         14  \n",
       "1        2.06         15  \n",
       "2        3.58          0  \n",
       "3        3.09          3  \n",
       "4        3.60          9  "
      ]
     },
     "execution_count": 7,
     "metadata": {},
     "output_type": "execute_result"
    }
   ],
   "source": [
    "weather_df.head()"
   ]
  },
  {
   "cell_type": "markdown",
   "id": "9e48c158-a178-4914-96a9-7104e26f0f7b",
   "metadata": {},
   "source": [
    "# ## Data Definition\n",
    "# \n",
    "# The dataset contains the following fields:\n",
    "# - `city`: Name of the city.\n",
    "# - `temperature_celsius`: Current temperature in degrees Celsius.\n",
    "# - `feels_like_celsius`: What the temperature feels like in degrees Celsius.\n",
    "# - `humidity`: Humidity percentage.\n",
    "# - `pressure`: Atmospheric pressure in hPa.\n",
    "# - `wind_speed`: Wind speed in m/s."
   ]
  },
  {
   "cell_type": "markdown",
   "id": "40c646d6-8446-4c9c-bf15-553705cd60d5",
   "metadata": {},
   "source": [
    "# ## 3. Determine Optimal Number of Clusters\n",
    "# \n",
    "# We use the **Elbow Method** and **Silhouette Score** to find the best `K`."
   ]
  },
  {
   "cell_type": "code",
   "execution_count": 8,
   "id": "b9b37ff1-d7ac-4924-8725-dca1c0e7f0da",
   "metadata": {},
   "outputs": [],
   "source": [
    "sse = []\n",
    "silhouette_scores = []\n",
    "k_range = range(2, 10)\n",
    "\n",
    "for k in k_range:\n",
    "    kmeans = KMeans(n_clusters=k, random_state=42, n_init=10)\n",
    "    kmeans.fit(weather_scaled)\n",
    "    sse.append(kmeans.inertia_)\n",
    "    silhouette_scores.append(silhouette_score(weather_scaled, kmeans.labels_))"
   ]
  },
  {
   "cell_type": "code",
   "execution_count": 9,
   "id": "b9b1bd3f-16a9-4620-83f4-415010a1b57a",
   "metadata": {},
   "outputs": [
    {
     "data": {
      "image/png": "[encoded data removed]",
      "text/plain": [
       "<Figure size 1200x500 with 2 Axes>"
      ]
     },
     "metadata": {},
     "output_type": "display_data"
    }
   ],
   "source": [
    "# Plot Elbow Method and Silhouette Scores\n",
    "fig, ax = plt.subplots(1, 2, figsize=(12, 5))\n",
    "ax[0].plot(k_range, sse, marker='o', linestyle='--')\n",
    "ax[0].set_xlabel('Number of Clusters')\n",
    "ax[0].set_ylabel('SSE')\n",
    "ax[0].set_title('Elbow Method')\n",
    "ax[1].plot(k_range, silhouette_scores, marker='o', linestyle='--')\n",
    "ax[1].set_xlabel('Number of Clusters')\n",
    "ax[1].set_ylabel('Silhouette Score')\n",
    "ax[1].set_title('Silhouette Score')\n",
    "plt.show()"
   ]
  },
  {
   "cell_type": "markdown",
   "id": "4eaf58ae-fe18-485a-87bb-e96b96872727",
   "metadata": {},
   "source": [
    "# %% [markdown]\n",
    "# ## 4. Apply K-Means Clustering\n",
    "# \n",
    "# Based on the analysis, we choose an optimal `K` value and apply K-Means clustering."
   ]
  },
  {
   "cell_type": "code",
   "execution_count": 13,
   "id": "017adeec-6295-463e-aaa3-aa9a28b77c94",
   "metadata": {},
   "outputs": [],
   "source": [
    "optimal_k = 4  # Selected based on elbow method and silhouette score\n",
    "kmeans = KMeans(n_clusters=optimal_k, random_state=42, n_init=10)\n",
    "weather_df['cluster'] = kmeans.fit_predict(weather_scaled)"
   ]
  },
  {
   "cell_type": "code",
   "execution_count": 14,
   "id": "f4096aa4-9e7c-40b3-b454-6cd2922defd2",
   "metadata": {},
   "outputs": [],
   "source": [
    "# Add city names back to the dataframe for reference\n",
    "weather_df['city_name'] = weather_df['city_code'].map(city_mapping)"
   ]
  },
  {
   "cell_type": "code",
   "execution_count": 15,
   "id": "77e894e3-d404-41fc-b2ed-2486c09c9303",
   "metadata": {},
   "outputs": [
    {
     "name": "stdout",
     "output_type": "stream",
     "text": [
      "Cluster 0:\n",
      "Vancouver, Victoria, Calgary, Edmonton, St. John's\n",
      "\n",
      "Cluster 1:\n",
      "Ottawa, Montreal, Québec, Fredericton, Saint John, Halifax, Dartmouth, Charlottetown\n",
      "\n",
      "Cluster 2:\n",
      "Regina, Saskatoon, Winnipeg\n",
      "\n",
      "Cluster 3:\n",
      "Toronto\n",
      "\n"
     ]
    }
   ],
   "source": [
    "# Print cities in each cluster\n",
    "for cluster in range(optimal_k):\n",
    "    print(f\"Cluster {cluster}:\")\n",
    "    cluster_cities = weather_df[weather_df['cluster'] == cluster]['city_name'].unique()\n",
    "    print(\", \".join(cluster_cities))\n",
    "    print()"
   ]
  },
  {
   "cell_type": "markdown",
   "id": "4b0fd042-c27e-46eb-b928-b4eab6bcf207",
   "metadata": {},
   "source": [
    "# ## 5. Cluster Visualization\n",
    "# \n",
    "# We analyze clusters using **temperature** and **humidity**, two key weather indicators."
   ]
  },
  {
   "cell_type": "code",
   "execution_count": 16,
   "id": "2a880413-ede1-4979-81dc-887ddd72727f",
   "metadata": {},
   "outputs": [
    {
     "data": {
      "image/png": "[encoded data removed]",
      "text/plain": [
       "<Figure size 1000x600 with 1 Axes>"
      ]
     },
     "metadata": {},
     "output_type": "display_data"
    }
   ],
   "source": [
    "plt.figure(figsize=(10, 6))\n",
    "sns.scatterplot(data=weather_df, x='temperature_celsius', y='humidity', hue='cluster', palette='viridis')\n",
    "plt.xlabel('Temperature (°C)')\n",
    "plt.ylabel('Humidity (%)')\n",
    "plt.title('K-Means Clustering of Real-Time Weather Data')\n",
    "plt.legend()\n",
    "plt.show()"
   ]
  },
  {
   "cell_type": "markdown",
   "id": "c42ef80d-9284-4801-919a-ec318b7d5470",
   "metadata": {},
   "source": [
    "# ## 6. Cluster Analysis & Summary\n",
    "# \n",
    "# Each cluster represents a distinct weather pattern. Below is the summary of each cluster based on the actual dataset:"
   ]
  },
  {
   "cell_type": "code",
   "execution_count": 17,
   "id": "bc5a9277-004f-4cc3-ba4f-21013416916a",
   "metadata": {},
   "outputs": [
    {
     "name": "stdout",
     "output_type": "stream",
     "text": [
      "\n",
      "Cluster Summary:\n",
      "         temperature_celsius  feels_like_celsius  humidity     pressure  \\\n",
      "cluster                                                                   \n",
      "0                   2.604000           -1.010000     78.20  1014.600000   \n",
      "1                   6.386250            2.295000     91.75   994.125000   \n",
      "2                  -8.533333          -15.146667     80.00  1015.333333   \n",
      "3                  -3.110000          -10.110000     77.00   996.000000   \n",
      "\n",
      "         wind_speed  \n",
      "cluster              \n",
      "0          4.112000  \n",
      "1          7.675000  \n",
      "2          4.626667  \n",
      "3         12.520000  \n"
     ]
    }
   ],
   "source": [
    "cluster_summary = weather_df.drop(columns=['city', 'city_code', 'city_name']).groupby('cluster').mean()\n",
    "print(\"\\nCluster Summary:\")\n",
    "print(cluster_summary)"
   ]
  },
  {
   "cell_type": "markdown",
   "id": "69baaa63-78f6-4785-b1a7-e30c4b8dce05",
   "metadata": {},
   "source": [
    "# Workbook Summary:\n",
    "# - **Cluster 0**: Vancouver, Victoria, Calgary, Edmonton, St. John's. Characteristics: Moderate temperatures (~2.6°C), feels slightly colder (~-1.0°C), with moderate humidity and wind speed.\n",
    "# - **Cluster 1**: Ottawa, Montreal, Québec, Fredericton, Saint John, Halifax, Dartmouth, Charlottetown. Characteristics: Warmer temperatures (~6.4°C), feels similar (~2.3°C), with slightly lower pressure (~994 hPa) and higher wind speed (~7.7 m/s).\n",
    "# - **Cluster 2**: Regina, Saskatoon, Winnipeg. Characteristics: Very cold temperatures (~-8.5°C), feels even colder (~-15.1°C), with high pressure (~1015 hPa) and moderate wind speed (~4.6 m/s).\n",
    "# - **Cluster 3**: Toronto. Characteristics: Cold temperatures (~-3.1°C), feels much colder (~-10.1°C), with lower pressure (~996 hPa) and high wind speed (~12.5 m/s).\n",
    "\n",
    "# Each cluster highlights distinct weather patterns across different cities, providing insights into how weather characteristics vary regionally."
   ]
  }
 ],
 "metadata": {
  "kernelspec": {
   "display_name": "Python 3 (ipykernel)",
   "language": "python",
   "name": "python3"
  },
  "language_info": {
   "codemirror_mode": {
    "name": "ipython",
    "version": 3
   },
   "file_extension": ".py",
   "mimetype": "text/x-python",
   "name": "python",
   "nbconvert_exporter": "python",
   "pygments_lexer": "ipython3",
   "version": "3.12.3"
  }
 },
 "nbformat": 4,
 "nbformat_minor": 5
}
